{
  "nbformat": 4,
  "nbformat_minor": 0,
  "metadata": {
    "colab": {
      "name": "Clean Coding.ipynb",
      "provenance": [],
      "collapsed_sections": []
    },
    "kernelspec": {
      "name": "python3",
      "display_name": "Python 3"
    },
    "language_info": {
      "name": "python"
    }
  },
  "cells": [
    {
      "cell_type": "code",
      "metadata": {
        "id": "PJ0NWGi8lku4"
      },
      "source": [
        "import torch\n",
        "from torch import nn\n",
        "from torch import functional as F"
      ],
      "execution_count": null,
      "outputs": []
    },
    {
      "cell_type": "code",
      "metadata": {
        "id": "XnHuRr-6lwK2"
      },
      "source": [
        "def conv_block(in_f, out_f, *args, **kwargs):\n",
        "  return nn.Sequential(nn.Conv2d(in_f, out_f, *args, **kwargs),\n",
        "                       nn.BatchNorm2d(out_f),\n",
        "                       nn.ReLU()\n",
        "                       )\n",
        "  \n",
        "def dec_block(in_f, out_f):\n",
        "  return nn.Sequential(nn.Linear(in_f, out_f),\n",
        "                       nn.Sigmoid()\n",
        "                       )\n",
        "  \n",
        "class MyClassifier(nn.Module):\n",
        "  def __init__(self, in_c, enc_sizes, dec_sizes, n_classes):\n",
        "    super().__init__()\n",
        "    self.enc_sizes = [in_c, *enc_sizes]\n",
        "    print(self.enc_sizes)\n",
        "    self.dec_sizes = [32*28*28, *dec_sizes]\n",
        "    print(self.dec_sizes)\n",
        "\n",
        "    for in_f, out_f in zip(self.enc_sizes, self.enc_sizes[1:]):\n",
        "      print(in_f, out_f)\n",
        "\n",
        "    conv_blocks = [conv_block(in_f, out_f, kernel_size=3, padding=1) for in_f, out_f in zip(self.enc_sizes, self.enc_sizes[1:])]\n",
        "\n",
        "    self.encoder = nn.Sequential(*conv_blocks)\n",
        "\n",
        "    dec_blocks = [dec_block(in_f, out_f) \n",
        "                       for in_f, out_f in zip(self.dec_sizes, self.dec_sizes[1:])]\n",
        "        \n",
        "    self.decoder = nn.Sequential(*dec_blocks)\n",
        "\n",
        "    self.last = nn.Linear(self.dec_sizes[-1], n_classes)\n",
        "\n",
        "  def forward(self, x):\n",
        "    x = self.encoder(x)\n",
        "    x = x.view(x.size(0), -1)\n",
        "    x = self.decoder(x)\n",
        "    x = last(x)\n",
        "    return x\n"
      ],
      "execution_count": null,
      "outputs": []
    },
    {
      "cell_type": "code",
      "metadata": {
        "colab": {
          "base_uri": "https://localhost:8080/"
        },
        "id": "Gs8vRNNhtT2n",
        "outputId": "dbde36c7-a67d-4275-e750-69c803d719e0"
      },
      "source": [
        "model = MyClassifier(1, [32,64], [1024,512], 10)\n",
        "print(model)"
      ],
      "execution_count": null,
      "outputs": [
        {
          "output_type": "stream",
          "text": [
            "[1, 32, 64]\n",
            "[25088, 1024, 512]\n",
            "1 32\n",
            "32 64\n",
            "MyClassifier(\n",
            "  (encoder): Sequential(\n",
            "    (0): Sequential(\n",
            "      (0): Conv2d(1, 32, kernel_size=(3, 3), stride=(1, 1), padding=(1, 1))\n",
            "      (1): BatchNorm2d(32, eps=1e-05, momentum=0.1, affine=True, track_running_stats=True)\n",
            "      (2): ReLU()\n",
            "    )\n",
            "    (1): Sequential(\n",
            "      (0): Conv2d(32, 64, kernel_size=(3, 3), stride=(1, 1), padding=(1, 1))\n",
            "      (1): BatchNorm2d(64, eps=1e-05, momentum=0.1, affine=True, track_running_stats=True)\n",
            "      (2): ReLU()\n",
            "    )\n",
            "  )\n",
            "  (decoder): Sequential(\n",
            "    (0): Sequential(\n",
            "      (0): Linear(in_features=25088, out_features=1024, bias=True)\n",
            "      (1): Sigmoid()\n",
            "    )\n",
            "    (1): Sequential(\n",
            "      (0): Linear(in_features=1024, out_features=512, bias=True)\n",
            "      (1): Sigmoid()\n",
            "    )\n",
            "  )\n",
            "  (last): Linear(in_features=512, out_features=10, bias=True)\n",
            ")\n"
          ],
          "name": "stdout"
        }
      ]
    },
    {
      "cell_type": "code",
      "metadata": {
        "colab": {
          "base_uri": "https://localhost:8080/"
        },
        "id": "VDVZOU9ut_xg",
        "outputId": "42e9f03d-a701-47a8-d508-0091e9b28993"
      },
      "source": [
        "l1 = [1 , 32, 64]\n",
        "l2 = [32, 64]\n",
        "\n",
        "print(zip(l1,l2))"
      ],
      "execution_count": null,
      "outputs": [
        {
          "output_type": "stream",
          "text": [
            "<zip object at 0x7f6883630aa0>\n"
          ],
          "name": "stdout"
        }
      ]
    },
    {
      "cell_type": "code",
      "metadata": {
        "colab": {
          "base_uri": "https://localhost:8080/"
        },
        "id": "Q02TsQ-C1WeO",
        "outputId": "5b2d8862-5561-42ac-f393-1ceddf34f866"
      },
      "source": [
        "for i in zip(l1, l2):\n",
        "  print(i)"
      ],
      "execution_count": null,
      "outputs": [
        {
          "output_type": "stream",
          "text": [
            "(1, 32)\n",
            "(32, 64)\n"
          ],
          "name": "stdout"
        }
      ]
    },
    {
      "cell_type": "code",
      "metadata": {
        "id": "8k8pY2PI1dlo"
      },
      "source": [
        ""
      ],
      "execution_count": null,
      "outputs": []
    }
  ]
}